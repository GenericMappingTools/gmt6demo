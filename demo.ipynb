{
 "cells": [
  {
   "cell_type": "markdown",
   "metadata": {},
   "source": [
    "# GMT6 Demo: Modern mode and subplots\n",
    "\n",
    "This is an example of the new features in the upcoming GMT6. "
   ]
  },
  {
   "cell_type": "markdown",
   "metadata": {},
   "source": [
    "To execute the code cells, select it and type `shift+enter` or click on the \"Run\" button above. Cells that start with `%%bash` run their code through the bash shell (use them to execute GMT commands). Other cells contain Python code or Markdown text (like this one). \n",
    "\n",
    "We'll use the `IPython.display.Image` class to display in the notebook the PNG figures that you generate on the `%%bash` cells.\n",
    "\n",
    "Start by executing the cell below (`shift+enter`) to import the class."
   ]
  },
  {
   "cell_type": "code",
   "execution_count": null,
   "metadata": {},
   "outputs": [],
   "source": [
    "# Load the class first. This only needs to be run once\n",
    "from IPython.display import Image"
   ]
  },
  {
   "cell_type": "markdown",
   "metadata": {},
   "source": [
    "## Example 1"
   ]
  },
  {
   "cell_type": "code",
   "execution_count": null,
   "metadata": {},
   "outputs": [],
   "source": [
    "%%bash\n",
    "gmt begin Chile png\n",
    "    gmt pscoast -RCL+r2 -JM15c+ -BWSne -B -Gbeige -Sblue -N1,1p\n",
    "gmt end"
   ]
  },
  {
   "cell_type": "code",
   "execution_count": null,
   "metadata": {},
   "outputs": [],
   "source": [
    "Image('Chile.png', width=120)"
   ]
  },
  {
   "cell_type": "markdown",
   "metadata": {},
   "source": [
    "## Example 2"
   ]
  },
  {
   "cell_type": "code",
   "execution_count": null,
   "metadata": {},
   "outputs": [],
   "source": [
    "%%bash\n",
    "gmt begin map png\n",
    "    gmt grdimage @earth_relief_05m -RMG+r2 -Cgeo -I+\n",
    "    gmt coast -Wthin -BWSne -B\n",
    "    gmt colorbar -DJTC -B -C+Uk\n",
    "gmt end"
   ]
  },
  {
   "cell_type": "code",
   "execution_count": null,
   "metadata": {},
   "outputs": [],
   "source": [
    "Image('map.png', width=300)"
   ]
  },
  {
   "cell_type": "markdown",
   "metadata": {},
   "source": [
    "## Example 3"
   ]
  },
  {
   "cell_type": "code",
   "execution_count": null,
   "metadata": {},
   "outputs": [],
   "source": [
    "%%bash\n",
    "gmt begin islands png\n",
    "  gmt set MAP_ANNOT_OBLIQUE 34 FORMAT_GEO_MAP ddd:mmF\n",
    "  gmt subplot begin 2x2 -M0.05i -Fs3i/3i -BWSne -A+gwhite+p0.5p\n",
    "    gmt grdimage @earth_relief_03s -R-30/30/-30/30+uk -JA159:32W/22:03N -Ba20mf5m -Csrtm -c1,1\n",
    "    gmt grdimage @earth_relief_03s -R-15/15/-15/15+uk -JA109:20W/27:07S -Ba20mf5m -c1,2\n",
    "    gmt grdimage @earth_relief_03s -R-30/30/-30/30+uk -JA149:22W/17:43S -Ba20mf5m -c2,1\n",
    "    gmt grdimage @earth_relief_03s -R-10/10/-10/10+uk -JA138:39W/10:29S -Ba20mf5m -c2,2\n",
    "  gmt subplot end\n",
    "  gmt colorbar -B -Dx0/0.4i+jBC+w5i+h -Xw/2 -Yh\n",
    "gmt end"
   ]
  },
  {
   "cell_type": "code",
   "execution_count": null,
   "metadata": {},
   "outputs": [],
   "source": [
    "Image('islands.png', width=500)"
   ]
  },
  {
   "cell_type": "markdown",
   "metadata": {},
   "source": [
    "## Example 4"
   ]
  },
  {
   "cell_type": "code",
   "execution_count": null,
   "metadata": {},
   "outputs": [],
   "source": [
    "%%bash\n",
    "gmt begin\n",
    "    gmt figure hotspots png\n",
    "    gmt grdimage @earth_relief_10m -JG200/30/6i -Cgeo -I+\n",
    "    gmt coast -W -Dc -Bafg\n",
    "    gmt plot @hotspots.txt -Sc0.2c -Gred\n",
    "gmt end"
   ]
  },
  {
   "cell_type": "code",
   "execution_count": null,
   "metadata": {},
   "outputs": [],
   "source": [
    "Image('hotspots.png', width=500)"
   ]
  },
  {
   "cell_type": "markdown",
   "metadata": {},
   "source": [
    "# Experiment for yourself\n",
    "\n",
    "Try running different things in the cells below or edit and rerun the cells above.\n"
   ]
  },
  {
   "cell_type": "code",
   "execution_count": null,
   "metadata": {},
   "outputs": [],
   "source": [
    "%%bash\n"
   ]
  },
  {
   "cell_type": "code",
   "execution_count": null,
   "metadata": {},
   "outputs": [],
   "source": [
    "Image('XXX.png', width=500)"
   ]
  },
  {
   "cell_type": "code",
   "execution_count": null,
   "metadata": {},
   "outputs": [],
   "source": [
    "%%bash\n"
   ]
  },
  {
   "cell_type": "code",
   "execution_count": null,
   "metadata": {},
   "outputs": [],
   "source": [
    "Image('XXX.png', width=500)"
   ]
  },
  {
   "cell_type": "code",
   "execution_count": null,
   "metadata": {},
   "outputs": [],
   "source": [
    "%%bash\n"
   ]
  },
  {
   "cell_type": "code",
   "execution_count": null,
   "metadata": {},
   "outputs": [],
   "source": [
    "Image('XXX.png', width=500)"
   ]
  }
 ],
 "metadata": {
  "kernelspec": {
   "display_name": "Python 3",
   "language": "python",
   "name": "python3"
  },
  "language_info": {
   "codemirror_mode": {
    "name": "ipython",
    "version": 3
   },
   "file_extension": ".py",
   "mimetype": "text/x-python",
   "name": "python",
   "nbconvert_exporter": "python",
   "pygments_lexer": "ipython3",
   "version": "3.6.3"
  }
 },
 "nbformat": 4,
 "nbformat_minor": 2
}
